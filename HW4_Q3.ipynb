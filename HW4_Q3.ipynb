{
 "cells": [
  {
   "cell_type": "code",
   "execution_count": 12,
   "metadata": {},
   "outputs": [],
   "source": [
    "import scipy.io as spio\n",
    "import matplotlib.pyplot as plt\n",
    "import sys\n",
    "import warnings\n",
    "import math\n",
    "import imageio\n",
    "import PIL\n",
    "import random\n",
    "from sklearn.preprocessing import StandardScaler, normalize\n",
    "from sklearn.model_selection import KFold\n",
    "from sklearn.preprocessing import StandardScaler\n",
    "from sklearn.model_selection import StratifiedShuffleSplit\n",
    "from sklearn.model_selection import GridSearchCV\n",
    "from sklearn.mixture import GaussianMixture\n",
    "from sklearn import svm\n",
    "from math import log\n",
    "import numpy as np\n",
    "np.seterr(divide='ignore')\n",
    "import scipy"
   ]
  },
  {
   "cell_type": "code",
   "execution_count": 13,
   "metadata": {},
   "outputs": [],
   "source": [
    "image1 = imageio.imread('plane.jpg')\n",
    "image2 = imageio.imread('bird.jpg')\n"
   ]
  },
  {
   "cell_type": "code",
   "execution_count": 14,
   "metadata": {},
   "outputs": [],
   "source": [
    "image1_cube = []\n",
    "image2_cube = []\n",
    "for idy in range(len(image1)):\n",
    "    for idx in range(len(image1[0])):\n",
    "        y = [idy, idx] + (list(image1[idy, idx]))\n",
    "        image1_cube.append(y) \n",
    "image1_cube = normalize(np.array(image1_cube), norm='max', axis=0)\n",
    "\n",
    "for idy in range(len(image2)):\n",
    "    for idx in range(len(image2[0])):\n",
    "        y = [idy, idx] + (list(image2[idy, idx]))\n",
    "        image2_cube.append(y) \n",
    "image2_cube = normalize(np.array(image2_cube), norm='max', axis=0)\n"
   ]
  },
  {
   "cell_type": "code",
   "execution_count": 21,
   "metadata": {},
   "outputs": [
    {
     "name": "stdout",
     "output_type": "stream",
     "text": [
      "154401\n",
      "19531\n",
      "[0 0 0 0 0 0 0 0 0 0]\n",
      "(154401,)\n"
     ]
    }
   ],
   "source": [
    "g = GaussianMixture(n_components = 2)\n",
    "model = g.fit(image1_cube)\n",
    "y_pred = model.predict(image1_cube)\n",
    "\n",
    "print(len(y_pred))\n",
    "print(len(y_pred[y_pred>0]))\n",
    "print(y_pred[:10])\n",
    "print(y_pred.shape)"
   ]
  },
  {
   "cell_type": "code",
   "execution_count": 22,
   "metadata": {},
   "outputs": [
    {
     "name": "stdout",
     "output_type": "stream",
     "text": [
      "(321, 481, 3)\n"
     ]
    },
    {
     "data": {
      "image/png": "[encoded data removed]",
      "text/plain": [
       "<PIL.Image.Image image mode=RGB size=481x321 at 0x244AD417F48>"
      ]
     },
     "execution_count": 22,
     "metadata": {},
     "output_type": "execute_result"
    }
   ],
   "source": [
    "pink = [255,192,203]\n",
    "blue = [0, 0, 255]\n",
    "new_img = []\n",
    "for i in y_pred:\n",
    "    if i == 0:\n",
    "        new_img.append(pink)\n",
    "    else:\n",
    "        new_img.append(blue)\n",
    "\n",
    "new_img = np.array([new_img])\n",
    "new_img = new_img.reshape(image1.shape)\n",
    "print(new_img.shape)\n",
    "PIL.Image.fromarray(new_img.astype(np.uint8))\n"
   ]
  },
  {
   "cell_type": "code",
   "execution_count": 17,
   "metadata": {},
   "outputs": [],
   "source": [
    "def tenFoldCrossVal(data):\n",
    "    \n",
    "    \n",
    "    #Attach labels to data\n",
    "    X = data\n",
    "\n",
    "    #Split the data in 10 batches\n",
    "    sizeBatches = 10\n",
    "    kf = KFold(n_splits=sizeBatches, shuffle=True)\n",
    "    \n",
    "    components = dict(n_components=np.arange(1, 10))\n",
    "    #param_grid = dict(gamma=gamma_range, C=C_range)\n",
    "    grid = GridSearchCV(GaussianMixture(), param_grid=components, \\\n",
    "                        cv=kf, return_train_score=True)\n",
    "    grid.fit(X)\n",
    "\n",
    "    print(\"The best parameters are %s with a score of %0.2f\"\n",
    "          % (grid.best_params_, grid.best_score_))\n",
    "    #print(grid.cv_results_)\n",
    "    \n",
    "    return grid.best_estimator_"
   ]
  },
  {
   "cell_type": "code",
   "execution_count": 18,
   "metadata": {},
   "outputs": [],
   "source": [
    "def fitAndTest(p_param, data):\n",
    "    \n",
    "    #Attach labels to data\n",
    "    X = data\n",
    "    \n",
    "    colors = {}\n",
    "    for i in range(p_param):\n",
    "        r = random.randint(0,255)\n",
    "        g = random.randint(0,255)\n",
    "        b = random.randint(0,255)\n",
    "        colors[i] = [r, g, b]\n",
    "    \n",
    "    g = GaussianMixture(n_components=p_param)\n",
    "    model = g.fit(X)\n",
    "    y_pred = model.predict(X)\n",
    "    \n",
    "    print(y_pred[:10])\n",
    "    new_img2 = []\n",
    "    for i in y_pred:\n",
    "        new_img2.append(colors[i])\n",
    "        \n",
    "    print(new_img2[:10])\n",
    "    new_img2 = np.array([new_img2])\n",
    "    new_img2 = new_img2.reshape((321, 481, 3))\n",
    "    img = PIL.Image.fromarray(new_img2.astype(np.uint8))\n",
    "    img.save('GMM_bird.jpg')"
   ]
  },
  {
   "cell_type": "code",
   "execution_count": 19,
   "metadata": {},
   "outputs": [
    {
     "name": "stdout",
     "output_type": "stream",
     "text": [
      "The best parameters are {'n_components': 9} with a score of 8.32\n"
     ]
    }
   ],
   "source": [
    "p_hat = tenFoldCrossVal(image2_cube)"
   ]
  },
  {
   "cell_type": "code",
   "execution_count": 20,
   "metadata": {},
   "outputs": [
    {
     "name": "stdout",
     "output_type": "stream",
     "text": [
      "[17 17 17 17 17 17 17 17 17 17]\n",
      "[[184, 234, 57], [184, 234, 57], [184, 234, 57], [184, 234, 57], [184, 234, 57], [184, 234, 57], [184, 234, 57], [184, 234, 57], [184, 234, 57], [184, 234, 57]]\n"
     ]
    }
   ],
   "source": [
    "#fitAndTest(p_hat, d4train1000_data.T, d4train1000_labels)\n",
    "fitAndTest(19, image2_cube)"
   ]
  }
 ],
 "metadata": {
  "kernelspec": {
   "display_name": "Python 3",
   "language": "python",
   "name": "python3"
  },
  "language_info": {
   "codemirror_mode": {
    "name": "ipython",
    "version": 3
   },
   "file_extension": ".py",
   "mimetype": "text/x-python",
   "name": "python",
   "nbconvert_exporter": "python",
   "pygments_lexer": "ipython3",
   "version": "3.7.7"
  }
 },
 "nbformat": 4,
 "nbformat_minor": 4
}
