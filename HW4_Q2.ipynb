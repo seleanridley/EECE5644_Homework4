{
 "cells": [
  {
   "cell_type": "code",
   "execution_count": 1,
   "metadata": {},
   "outputs": [
    {
     "name": "stderr",
     "output_type": "stream",
     "text": [
      "Using TensorFlow backend.\n"
     ]
    }
   ],
   "source": [
    "import scipy.io as spio\n",
    "import matplotlib.pyplot as plt\n",
    "import sys\n",
    "import warnings\n",
    "import math\n",
    "from sklearn.preprocessing import StandardScaler\n",
    "from sklearn.model_selection import KFold\n",
    "from sklearn.svm import SVC\n",
    "from sklearn.preprocessing import StandardScaler\n",
    "from sklearn.model_selection import StratifiedShuffleSplit\n",
    "from sklearn.model_selection import GridSearchCV\n",
    "from sklearn.model_selection import cross_val_score\n",
    "from sklearn.metrics import accuracy_score\n",
    "from sklearn.metrics import confusion_matrix\n",
    "from sklearn import svm\n",
    "from math import log\n",
    "import numpy as np\n",
    "import numpy.testing as npt\n",
    "from numpy import isneginf\n",
    "np.seterr(divide='ignore')\n",
    "import scipy\n",
    "import keras\n",
    "from keras.models import Sequential\n",
    "from keras.layers import Dense\n",
    "from keras.wrappers.scikit_learn import KerasRegressor"
   ]
  },
  {
   "cell_type": "code",
   "execution_count": 24,
   "metadata": {},
   "outputs": [
    {
     "name": "stdout",
     "output_type": "stream",
     "text": [
      "Collecting seaborn\n",
      "  Downloading seaborn-0.10.0-py3-none-any.whl (215 kB)\n",
      "Requirement already satisfied: numpy>=1.13.3 in c:\\users\\dominic\\anaconda3\\envs\\spring20\\lib\\site-packages (from seaborn) (1.18.1)\n",
      "Requirement already satisfied: matplotlib>=2.1.2 in c:\\users\\dominic\\anaconda3\\envs\\spring20\\lib\\site-packages (from seaborn) (3.2.1)\n",
      "Requirement already satisfied: scipy>=1.0.1 in c:\\users\\dominic\\anaconda3\\envs\\spring20\\lib\\site-packages (from seaborn) (1.4.1)\n",
      "Requirement already satisfied: pandas>=0.22.0 in c:\\users\\dominic\\anaconda3\\envs\\spring20\\lib\\site-packages (from seaborn) (1.0.3)\n",
      "Requirement already satisfied: cycler>=0.10 in c:\\users\\dominic\\anaconda3\\envs\\spring20\\lib\\site-packages (from matplotlib>=2.1.2->seaborn) (0.10.0)\n",
      "Requirement already satisfied: python-dateutil>=2.1 in c:\\users\\dominic\\anaconda3\\envs\\spring20\\lib\\site-packages (from matplotlib>=2.1.2->seaborn) (2.8.1)\n",
      "Requirement already satisfied: kiwisolver>=1.0.1 in c:\\users\\dominic\\anaconda3\\envs\\spring20\\lib\\site-packages (from matplotlib>=2.1.2->seaborn) (1.2.0)\n",
      "Requirement already satisfied: pyparsing!=2.0.4,!=2.1.2,!=2.1.6,>=2.0.1 in c:\\users\\dominic\\anaconda3\\envs\\spring20\\lib\\site-packages (from matplotlib>=2.1.2->seaborn) (2.4.6)\n",
      "Requirement already satisfied: pytz>=2017.2 in c:\\users\\dominic\\anaconda3\\envs\\spring20\\lib\\site-packages (from pandas>=0.22.0->seaborn) (2019.3)\n",
      "Requirement already satisfied: six in c:\\users\\dominic\\anaconda3\\envs\\spring20\\lib\\site-packages (from cycler>=0.10->matplotlib>=2.1.2->seaborn) (1.14.0)\n",
      "Installing collected packages: seaborn\n",
      "Successfully installed seaborn-0.10.0\n"
     ]
    }
   ],
   "source": [
    "import pandas as pd\n",
    "import seaborn as sns"
   ]
  },
  {
   "cell_type": "code",
   "execution_count": 2,
   "metadata": {},
   "outputs": [],
   "source": [
    "d4train1000_data = spio.loadmat('d41_train1000.mat')['data']\n",
    "d4train1000_labels = spio.loadmat('d41_train1000.mat')['labels']\n",
    "\n",
    "d4test10k_data = spio.loadmat('d41_train10k.mat')['data']\n",
    "d4test10k_labels = spio.loadmat('d41_train10k.mat')['labels']\n"
   ]
  },
  {
   "cell_type": "code",
   "execution_count": 20,
   "metadata": {},
   "outputs": [],
   "source": [
    "def cm_analysis(y_true, y_pred, filename, labels, ymap=None, figsize=(10,10)):\n",
    "    \"\"\"\n",
    "    Generate matrix plot of confusion matrix with pretty annotations.\n",
    "    The plot image is saved to disk.\n",
    "    args: \n",
    "      y_true:    true label of the data, with shape (nsamples,)\n",
    "      y_pred:    prediction of the data, with shape (nsamples,)\n",
    "      filename:  filename of figure file to save\n",
    "      labels:    string array, name the order of class labels in the confusion matrix.\n",
    "                 use `clf.classes_` if using scikit-learn models.\n",
    "                 with shape (nclass,).\n",
    "      ymap:      dict: any -> string, length == nclass.\n",
    "                 if not None, map the labels & ys to more understandable strings.\n",
    "                 Caution: original y_true, y_pred and labels must align.\n",
    "      figsize:   the size of the figure plotted.\n",
    "    \"\"\"\n",
    "    if ymap is not None:\n",
    "        y_pred = [ymap[yi] for yi in y_pred]\n",
    "        y_true = [ymap[yi] for yi in y_true]\n",
    "        labels = [ymap[yi] for yi in labels]\n",
    "    cm = confusion_matrix(y_true, y_pred, labels=labels)\n",
    "    cm_sum = np.sum(cm, axis=1, keepdims=True)\n",
    "    cm_perc = cm / cm_sum.astype(float) * 100\n",
    "    annot = np.empty_like(cm).astype(str)\n",
    "    nrows, ncols = cm.shape\n",
    "    for i in range(nrows):\n",
    "        for j in range(ncols):\n",
    "            c = cm[i, j]\n",
    "            p = cm_perc[i, j]\n",
    "            if i == j:\n",
    "                s = cm_sum[i]\n",
    "                annot[i, j] = '%.1f%%\\n%d/%d' % (p, c, s)\n",
    "            elif c == 0:\n",
    "                annot[i, j] = ''\n",
    "            else:\n",
    "                annot[i, j] = '%.1f%%\\n%d' % (p, c)\n",
    "    cm = pd.DataFrame(cm, index=labels, columns=labels)\n",
    "    cm.index.name = 'Actual'\n",
    "    cm.columns.name = 'Predicted'\n",
    "    fig, ax = plt.subplots(figsize=figsize)\n",
    "    sns.heatmap(cm, annot=annot, fmt='', ax=ax)\n",
    "    plt.savefig(filename)"
   ]
  },
  {
   "cell_type": "code",
   "execution_count": 3,
   "metadata": {},
   "outputs": [],
   "source": [
    "def tenFoldCrossVal(data, labels):\n",
    "    \n",
    "    \n",
    "    #Attach labels to data\n",
    "    X = data\n",
    "    y = labels\n",
    "\n",
    "\n",
    "    scaler = StandardScaler()\n",
    "    #X = scaler.fit_transform(X)\n",
    "\n",
    "    y = y.reshape(-1)\n",
    "    #Split the data in 10 batches\n",
    "    sizeBatches = 10\n",
    "    kf = KFold(n_splits=sizeBatches, shuffle=True)\n",
    "    \n",
    "    print(X.shape, y.shape)\n",
    "    C_range = np.logspace(-3.0, 3.0, num=10)\n",
    "    gamma_range = np.logspace(-3.0, 3.0, num=10)\n",
    "    param_grid = dict(gamma=gamma_range, C=C_range)\n",
    "    grid = GridSearchCV(SVC(kernel='rbf', probability=True), param_grid=param_grid, \\\n",
    "                        cv=kf, return_train_score=True)\n",
    "    grid.fit(X, y)\n",
    "\n",
    "    print(\"The best parameters are %s with a score of %0.2f\"\n",
    "          % (grid.best_params_, grid.best_score_))\n",
    "    #print(grid.cv_results_)\n",
    "    \n",
    "    return grid.best_estimator_"
   ]
  },
  {
   "cell_type": "code",
   "execution_count": 26,
   "metadata": {},
   "outputs": [],
   "source": [
    "def fitAndTest(p_hat, data, labels):\n",
    "    \n",
    "    #Attach labels to data\n",
    "    X = data\n",
    "    y = labels\n",
    "\n",
    "    scaler = StandardScaler()\n",
    "    #X = scaler.fit_transform(X)\n",
    "\n",
    "    y = y.reshape(-1)\n",
    "    #sv = SVC(kernel='rbf', C=p_hat['C'], gamma=p_hat['gamma'])\n",
    "    print(p_hat.get_params())\n",
    "    #p_hat.fit(data, y)\n",
    "    y_hat = p_hat.predict(data)\n",
    "    print(y_hat)\n",
    "    a = accuracy_score(y, y_hat, normalize=False)\n",
    "    plt.figure()\n",
    "    plt.xlabel(\"X\")\n",
    "    for i in range(len(y_hat)):\n",
    "        if y_hat[i] == 1:\n",
    "            plt.plot(X[i][0], X[i][1], 'r.', zorder=2)\n",
    "        if y_hat[i] == 2:\n",
    "            plt.plot(X[i][0], X[i][1], 'b.', zorder=1)\n",
    "    plt.savefig(\"HW4_Q2\")\n",
    "    labels = [1, 2]\n",
    "    cm = confusion_matrix(y, y_hat, labels)\n",
    "    #cm_analysis(y, y_hat, \"SVM_ConfusionMatrix.png\", labels)\n",
    "    print(a)\n",
    "   "
   ]
  },
  {
   "cell_type": "code",
   "execution_count": 5,
   "metadata": {},
   "outputs": [
    {
     "name": "stdout",
     "output_type": "stream",
     "text": [
      "(1000, 2) (1000,)\n",
      "The best parameters are {'C': 10.0, 'gamma': 0.004641588833612777} with a score of 0.97\n"
     ]
    }
   ],
   "source": [
    "p_hat = tenFoldCrossVal(d4train1000_data.T, d4train1000_labels)"
   ]
  },
  {
   "cell_type": "code",
   "execution_count": 27,
   "metadata": {},
   "outputs": [
    {
     "name": "stdout",
     "output_type": "stream",
     "text": [
      "{'C': 10.0, 'break_ties': False, 'cache_size': 200, 'class_weight': None, 'coef0': 0.0, 'decision_function_shape': 'ovr', 'degree': 3, 'gamma': 0.004641588833612777, 'kernel': 'rbf', 'max_iter': -1, 'probability': True, 'random_state': None, 'shrinking': True, 'tol': 0.001, 'verbose': False}\n",
      "[1 2 2 ... 2 2 2]\n",
      "9720\n"
     ]
    },
    {
     "data": {
      "image/png": "[encoded data removed]",
      "text/plain": [
       "<Figure size 432x288 with 1 Axes>"
      ]
     },
     "metadata": {
      "needs_background": "light"
     },
     "output_type": "display_data"
    }
   ],
   "source": [
    "#fitAndTest(p_hat, d4train1000_data.T, d4train1000_labels)\n",
    "fitAndTest(p_hat, d4test10k_data.T, d4test10k_labels)"
   ]
  }
 ],
 "metadata": {
  "kernelspec": {
   "display_name": "Python 3",
   "language": "python",
   "name": "python3"
  },
  "language_info": {
   "codemirror_mode": {
    "name": "ipython",
    "version": 3
   },
   "file_extension": ".py",
   "mimetype": "text/x-python",
   "name": "python",
   "nbconvert_exporter": "python",
   "pygments_lexer": "ipython3",
   "version": "3.7.7"
  }
 },
 "nbformat": 4,
 "nbformat_minor": 4
}
